{
  "nbformat": 4,
  "nbformat_minor": 0,
  "metadata": {
    "colab": {
      "name": "SeguimientoOP1.ipynb",
      "provenance": [],
      "collapsed_sections": [],
      "authorship_tag": "ABX9TyOnke8sNKPlSpgKe0JjdQU/",
      "include_colab_link": true
    },
    "kernelspec": {
      "name": "python3",
      "display_name": "Python 3"
    }
  },
  "cells": [
    {
      "cell_type": "markdown",
      "metadata": {
        "id": "view-in-github",
        "colab_type": "text"
      },
      "source": [
        "<a href=\"https://colab.research.google.com/github/manuelaguarnizos/ST0245-032/blob/master/SeguimientoOP1.ipynb\" target=\"_parent\"><img src=\"https://colab.research.google.com/assets/colab-badge.svg\" alt=\"Open In Colab\"/></a>"
      ]
    },
    {
      "cell_type": "code",
      "metadata": {
        "id": "92k6SKS-i5M2",
        "colab_type": "code",
        "colab": {
          "base_uri": "https://localhost:8080/",
          "height": 173
        },
        "outputId": "3e0ccd02-daf1-4ce0-9b20-9025b6b8988f"
      },
      "source": [
        "!pip install ortools"
      ],
      "execution_count": null,
      "outputs": [
        {
          "output_type": "stream",
          "text": [
            "Collecting ortools\n",
            "\u001b[?25l  Downloading https://files.pythonhosted.org/packages/6c/e9/57ee68e41e02b00836dbe61a4f9679c953623168dcca3a84e2cd16a3e9b2/ortools-7.8.7959-cp36-cp36m-manylinux1_x86_64.whl (32.7MB)\n",
            "\u001b[K     |████████████████████████████████| 32.7MB 113kB/s \n",
            "\u001b[?25hRequirement already satisfied: protobuf>=3.12.2 in /usr/local/lib/python3.6/dist-packages (from ortools) (3.12.4)\n",
            "Requirement already satisfied: six>=1.10 in /usr/local/lib/python3.6/dist-packages (from ortools) (1.15.0)\n",
            "Requirement already satisfied: setuptools in /usr/local/lib/python3.6/dist-packages (from protobuf>=3.12.2->ortools) (49.2.0)\n",
            "Installing collected packages: ortools\n",
            "Successfully installed ortools-7.8.7959\n"
          ],
          "name": "stdout"
        }
      ]
    },
    {
      "cell_type": "code",
      "metadata": {
        "id": "WfE-4L62yM7_",
        "colab_type": "code",
        "colab": {
          "base_uri": "https://localhost:8080/",
          "height": 136
        },
        "outputId": "55d3cfb9-9761-425c-bc73-5b786eec6053"
      },
      "source": [
        "from __future__ import print_function\n",
        "from ortools.linear_solver import pywraplp\n",
        "\n",
        "import numpy as np\n",
        "import itertools\n",
        "\n",
        "model= pywraplp.Solver('PROBLEMA_PM',pywraplp.Solver.GLOP_LINEAR_PROGRAMMING)\n",
        "#numero de alimentos(LECHE,CARNE,HUEVO)\n",
        "n=3\n",
        "#numero de vitaminas(X,Y,Z)\n",
        "m=3\n",
        "\n",
        "set_P = range(n)\n",
        "\n",
        "#costo de cada unidad de alimento (LECHE>=1.2, CARNE>=1.8, HUEVO >=0.8)\n",
        "c=[1.2,1.8,0.8]\n",
        "# cantidad minima de cada vitamina\n",
        "b=[1,250,120]\n",
        "\n",
        "A=[[1,4,10],[100,20,10],[20,100,10]]\n",
        "\n",
        "#VARIABLES DE DECISION\n",
        "X= [[]] * (n)\n",
        "X\n",
        "\n",
        "#funcion objetivo\n",
        "objective= model.Objective()\n",
        "\n",
        "for i in set_P:\n",
        "  X[i] = model.NumVar(0,model.infinity(),\"X[\"+ str(i) + \"]\")\n",
        "  objective.SetCoefficient(X[i], c[i])\n",
        "\n",
        "objective.SetMinimization()\n",
        "\n",
        "constraints= [0]*(m)\n",
        "\n",
        "\n",
        "for j in range(m):\n",
        "  constraints[j] = model.Constraint(b[j],model.infinity())\n",
        "  for i in set_P:\n",
        "    constraints[j].SetCoefficient(X[i],A[j][i])\n",
        "\n",
        "\n",
        "status= model.Solve()\n",
        "\n",
        "print(\"status: \" + str(status))\n",
        "print(\"feasible: \"+ str(model.FEASIBLE))\n",
        "print(\"Optimal: \"+ str(model.OPTIMAL))\n",
        "for i in range(n):\n",
        "  print('x'+str(i+1)+' = ',(X[i].solution_value()))\n",
        "print('Optimal objective value= ', model.Objective().Value())\n",
        "\n",
        "\n",
        "\n"
      ],
      "execution_count": 38,
      "outputs": [
        {
          "output_type": "stream",
          "text": [
            "status: 0\n",
            "feasible: 1\n",
            "Optimal: 0\n",
            "x1 =  2.3541666666666665\n",
            "x2 =  0.7291666666666666\n",
            "x3 =  0.0\n",
            "Optimal objective value=  4.137499999999999\n"
          ],
          "name": "stdout"
        }
      ]
    }
  ]
}