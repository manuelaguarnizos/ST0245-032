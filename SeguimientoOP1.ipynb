{
  "nbformat": 4,
  "nbformat_minor": 0,
  "metadata": {
    "colab": {
      "name": "SeguimientoOP1.ipynb",
      "provenance": [],
      "collapsed_sections": [],
      "authorship_tag": "ABX9TyMUluR5F1dVH5oUl2bjOlMS",
      "include_colab_link": true
    },
    "kernelspec": {
      "name": "python3",
      "display_name": "Python 3"
    }
  },
  "cells": [
    {
      "cell_type": "markdown",
      "metadata": {
        "id": "view-in-github",
        "colab_type": "text"
      },
      "source": [
        "<a href=\"https://colab.research.google.com/github/manuelaguarnizos/ST0245-032/blob/master/SeguimientoOP1.ipynb\" target=\"_parent\"><img src=\"https://colab.research.google.com/assets/colab-badge.svg\" alt=\"Open In Colab\"/></a>"
      ]
    },
    {
      "cell_type": "code",
      "metadata": {
        "id": "92k6SKS-i5M2",
        "colab_type": "code",
        "colab": {
          "base_uri": "https://localhost:8080/",
          "height": 173
        },
        "outputId": "3e0ccd02-daf1-4ce0-9b20-9025b6b8988f"
      },
      "source": [
        "!pip install ortools"
      ],
      "execution_count": null,
      "outputs": [
        {
          "output_type": "stream",
          "text": [
            "Collecting ortools\n",
            "\u001b[?25l  Downloading https://files.pythonhosted.org/packages/6c/e9/57ee68e41e02b00836dbe61a4f9679c953623168dcca3a84e2cd16a3e9b2/ortools-7.8.7959-cp36-cp36m-manylinux1_x86_64.whl (32.7MB)\n",
            "\u001b[K     |████████████████████████████████| 32.7MB 113kB/s \n",
            "\u001b[?25hRequirement already satisfied: protobuf>=3.12.2 in /usr/local/lib/python3.6/dist-packages (from ortools) (3.12.4)\n",
            "Requirement already satisfied: six>=1.10 in /usr/local/lib/python3.6/dist-packages (from ortools) (1.15.0)\n",
            "Requirement already satisfied: setuptools in /usr/local/lib/python3.6/dist-packages (from protobuf>=3.12.2->ortools) (49.2.0)\n",
            "Installing collected packages: ortools\n",
            "Successfully installed ortools-7.8.7959\n"
          ],
          "name": "stdout"
        }
      ]
    },
    {
      "cell_type": "code",
      "metadata": {
        "id": "WfE-4L62yM7_",
        "colab_type": "code",
        "colab": {
          "base_uri": "https://localhost:8080/",
          "height": 136
        },
        "outputId": "e4ca9919-f31f-4283-9c46-0dbbd319a32f"
      },
      "source": [
        "from __future__ import print_function\n",
        "from ortools.linear_solver import pywraplp\n",
        "\n",
        "import numpy as np\n",
        "import itertools\n",
        "\n",
        "model= pywraplp.Solver('PROBLEMA_PM',pywraplp.Solver.GLOP_LINEAR_PROGRAMMING)\n",
        "#numero de productos\n",
        "n=3\n",
        "#numero de plantas de operacion\n",
        "m=3\n",
        "\n",
        "set_P = range(n)\n",
        "\n",
        "#ganancias\n",
        "c=[3,2,5]\n",
        "#capacidad de operacion\n",
        "b=[430,460,420]\n",
        "#tiempo en produccion\n",
        "A=[[1,2,1],[8,0,2],[1,4,0]]\n",
        "\n",
        "#VARIABLES DE DECISION\n",
        "X= [[]] * (n)\n",
        "X\n",
        "\n",
        "#funcion objetivo\n",
        "objective= model.Objective()\n",
        "\n",
        "for i in set_P:\n",
        "  X[i] = model.NumVar(0,model.infinity(),\"X[\"+ str(i) + \"]\")\n",
        "  objective.SetCoefficient(X[i], c[i])\n",
        "\n",
        "objective.SetMaximization()\n",
        "\n",
        "constraints= [0]*(m)\n",
        "\n",
        "c=0\n",
        "for j in range(m):\n",
        "  constraints[c] = model.Constraint(0,b[j])\n",
        "  for i in set_P:\n",
        "    constraints[c].SetCoefficient(X[i],A[j][i])\n",
        "  c=c+1\n",
        "\n",
        "\n",
        "status= model.Solve()\n",
        "\n",
        "print(\"status: \" + str(status))\n",
        "print(\"feasible: \"+ str(model.FEASIBLE))\n",
        "print(\"Optimal: \"+ str(model.OPTIMAL))\n",
        "for i in range(n):\n",
        "  print(\"X[\" + str(i) +\"] = \" + str(X[i].solution_value()))\n",
        "\n",
        "print('Optimal objective value= ', model.Objective().Value())\n",
        "\n",
        "\n",
        "\n"
      ],
      "execution_count": null,
      "outputs": [
        {
          "output_type": "stream",
          "text": [
            "status: 0\n",
            "feasible: 1\n",
            "Optimal: 0\n",
            "X[0] = 0.0\n",
            "X[1] = 100.00000000000003\n",
            "X[2] = 230.0\n",
            "Optimal objective value=  1350.0\n"
          ],
          "name": "stdout"
        }
      ]
    }
  ]
}