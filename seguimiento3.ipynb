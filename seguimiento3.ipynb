{
  "nbformat": 4,
  "nbformat_minor": 0,
  "metadata": {
    "colab": {
      "name": "seguimiento3.ipynb",
      "provenance": [],
      "authorship_tag": "ABX9TyM9CFvGET4KFlXN3Xq2nDj0",
      "include_colab_link": true
    },
    "kernelspec": {
      "name": "python3",
      "display_name": "Python 3"
    }
  },
  "cells": [
    {
      "cell_type": "markdown",
      "metadata": {
        "id": "view-in-github",
        "colab_type": "text"
      },
      "source": [
        "<a href=\"https://colab.research.google.com/github/manuelaguarnizos/ST0245-032/blob/master/seguimiento3.ipynb\" target=\"_parent\"><img src=\"https://colab.research.google.com/assets/colab-badge.svg\" alt=\"Open In Colab\"/></a>"
      ]
    },
    {
      "cell_type": "code",
      "metadata": {
        "id": "TV4XAjbUOA7X",
        "colab_type": "code",
        "colab": {
          "base_uri": "https://localhost:8080/",
          "height": 173
        },
        "outputId": "b2eafce9-afa5-4727-ab04-6b84d59e6990"
      },
      "source": [
        "!pip install ortools"
      ],
      "execution_count": 1,
      "outputs": [
        {
          "output_type": "stream",
          "text": [
            "Collecting ortools\n",
            "\u001b[?25l  Downloading https://files.pythonhosted.org/packages/6c/e9/57ee68e41e02b00836dbe61a4f9679c953623168dcca3a84e2cd16a3e9b2/ortools-7.8.7959-cp36-cp36m-manylinux1_x86_64.whl (32.7MB)\n",
            "\u001b[K     |████████████████████████████████| 32.7MB 115kB/s \n",
            "\u001b[?25hRequirement already satisfied: protobuf>=3.12.2 in /usr/local/lib/python3.6/dist-packages (from ortools) (3.12.4)\n",
            "Requirement already satisfied: six>=1.10 in /usr/local/lib/python3.6/dist-packages (from ortools) (1.15.0)\n",
            "Requirement already satisfied: setuptools in /usr/local/lib/python3.6/dist-packages (from protobuf>=3.12.2->ortools) (49.2.0)\n",
            "Installing collected packages: ortools\n",
            "Successfully installed ortools-7.8.7959\n"
          ],
          "name": "stdout"
        }
      ]
    },
    {
      "cell_type": "code",
      "metadata": {
        "id": "Hv5BwinvONTG",
        "colab_type": "code",
        "colab": {
          "base_uri": "https://localhost:8080/",
          "height": 119
        },
        "outputId": "5dcac91b-440e-49f1-b4e0-ebc140b92d39"
      },
      "source": [
        "from __future__ import print_function\n",
        "from ortools.linear_solver import pywraplp\n",
        "\n",
        "import numpy as np\n",
        "import itertools\n",
        "\n",
        "model= pywraplp.Solver('PROBLEMA_PM',pywraplp.Solver.GLOP_LINEAR_PROGRAMMING)\n",
        "#numero de tipos de inspectores diferentes (I1, I2)\n",
        "n=2\n",
        "m=2\n",
        "\n",
        "set_P = range(n)\n",
        "\n",
        "#gasto por inspector de tipo 1 o 2 (I1= 40, I2=36)\n",
        "c=[40,36]\n",
        "#maximo de inspectores tipo 1 o 2(I1=8, I2=10)\n",
        "b=[8,10]\n",
        "A=[[1,0],[0,1]]\n",
        "\n",
        "#VARIABLES DE DECISION\n",
        "X= [[]] * (n)\n",
        "X\n",
        "\n",
        "#funcion objetivo\n",
        "objective= model.Objective()\n",
        "\n",
        "for i in set_P:\n",
        "  X[i] = model.NumVar(0,model.infinity(),\"X[\"+ str(i) + \"]\")\n",
        "  objective.SetCoefficient(X[i], c[i])\n",
        "\n",
        "objective.SetMinimization()\n",
        "#restriccion de tipo 1: se refiere a l cantidad de inspectores disponibles de tipo 1 o de tipo 2\n",
        "constraints1= [0]*(m)\n",
        "\n",
        "for j in range(m):\n",
        "  constraints1[j] = model.Constraint(-model.infinity(),b[j])\n",
        "  for i in set_P:\n",
        "    constraints1[j].SetCoefficient(X[i],A[j][i])\n",
        "\n",
        "# restriccion tipo 2: 200I1 + 120I2 >= 1800.\n",
        "    constraint2 = model.Constraint(1800, model.infinity())\n",
        "    constraint2.SetCoefficient(X[0], 200)\n",
        "    constraint2.SetCoefficient(X[1], 120)\n",
        "\n",
        "status= model.Solve()\n",
        "\n",
        "print(\"status: \" + str(status))\n",
        "print(\"feasible: \"+ str(model.FEASIBLE))\n",
        "print(\"Optimal: \"+ str(model.OPTIMAL))\n",
        "for i in range(n):\n",
        "  print('x'+str(i+1)+' = ',(X[i].solution_value()))\n",
        "print('Optimal objective value= ', model.Objective().Value())"
      ],
      "execution_count": 6,
      "outputs": [
        {
          "output_type": "stream",
          "text": [
            "status: 0\n",
            "feasible: 1\n",
            "Optimal: 0\n",
            "x1 =  8.0\n",
            "x2 =  1.6666666666666652\n",
            "Optimal objective value=  379.99999999999994\n"
          ],
          "name": "stdout"
        }
      ]
    }
  ]
}